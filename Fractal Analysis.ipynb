{
 "cells": [
  {
   "cell_type": "code",
   "execution_count": 1,
   "metadata": {},
   "outputs": [],
   "source": [
    "import pandas as pd\n",
    "import numpy as np \n",
    "import matplotlib.pyplot as plt\n",
    "import numpy as np\n",
    "import nolds   ##ref: https://pypi.org/project/nolds/\n",
    "from entropy import *   ##ref: https://github.com/raphaelvallat/entropy\n"
   ]
  },
  {
   "cell_type": "code",
   "execution_count": 2,
   "metadata": {},
   "outputs": [],
   "source": [
    "#import data as dataframe\n",
    "Data = pd.read_csv('./intern_dataset.csv')"
   ]
  },
  {
   "cell_type": "code",
   "execution_count": 3,
   "metadata": {},
   "outputs": [
    {
     "data": {
      "text/html": [
       "<div>\n",
       "<style scoped>\n",
       "    .dataframe tbody tr th:only-of-type {\n",
       "        vertical-align: middle;\n",
       "    }\n",
       "\n",
       "    .dataframe tbody tr th {\n",
       "        vertical-align: top;\n",
       "    }\n",
       "\n",
       "    .dataframe thead th {\n",
       "        text-align: right;\n",
       "    }\n",
       "</style>\n",
       "<table border=\"1\" class=\"dataframe\">\n",
       "  <thead>\n",
       "    <tr style=\"text-align: right;\">\n",
       "      <th></th>\n",
       "      <th>Time</th>\n",
       "      <th>Signal1</th>\n",
       "      <th>Signal2</th>\n",
       "      <th>Label</th>\n",
       "    </tr>\n",
       "  </thead>\n",
       "  <tbody>\n",
       "    <tr>\n",
       "      <th>0</th>\n",
       "      <td>2017-08-14 11:37:49.791</td>\n",
       "      <td>33668.091913</td>\n",
       "      <td>0.856726</td>\n",
       "      <td>A</td>\n",
       "    </tr>\n",
       "    <tr>\n",
       "      <th>1</th>\n",
       "      <td>2017-08-14 11:37:49.801</td>\n",
       "      <td>32564.903040</td>\n",
       "      <td>0.856705</td>\n",
       "      <td>A</td>\n",
       "    </tr>\n",
       "    <tr>\n",
       "      <th>2</th>\n",
       "      <td>2017-08-14 11:37:49.811</td>\n",
       "      <td>31454.043305</td>\n",
       "      <td>0.856683</td>\n",
       "      <td>A</td>\n",
       "    </tr>\n",
       "    <tr>\n",
       "      <th>3</th>\n",
       "      <td>2017-08-14 11:37:49.821</td>\n",
       "      <td>30335.387166</td>\n",
       "      <td>0.856659</td>\n",
       "      <td>A</td>\n",
       "    </tr>\n",
       "    <tr>\n",
       "      <th>4</th>\n",
       "      <td>2017-08-14 11:37:49.831</td>\n",
       "      <td>29207.142938</td>\n",
       "      <td>0.856634</td>\n",
       "      <td>A</td>\n",
       "    </tr>\n",
       "  </tbody>\n",
       "</table>\n",
       "</div>"
      ],
      "text/plain": [
       "                      Time       Signal1   Signal2 Label\n",
       "0  2017-08-14 11:37:49.791  33668.091913  0.856726     A\n",
       "1  2017-08-14 11:37:49.801  32564.903040  0.856705     A\n",
       "2  2017-08-14 11:37:49.811  31454.043305  0.856683     A\n",
       "3  2017-08-14 11:37:49.821  30335.387166  0.856659     A\n",
       "4  2017-08-14 11:37:49.831  29207.142938  0.856634     A"
      ]
     },
     "execution_count": 3,
     "metadata": {},
     "output_type": "execute_result"
    }
   ],
   "source": [
    "#actual data\n",
    "Data.head()"
   ]
  },
  {
   "cell_type": "code",
   "execution_count": 32,
   "metadata": {},
   "outputs": [
    {
     "data": {
      "text/plain": [
       "Time        object\n",
       "Signal1    float64\n",
       "Signal2    float64\n",
       "Label       object\n",
       "dtype: object"
      ]
     },
     "execution_count": 32,
     "metadata": {},
     "output_type": "execute_result"
    }
   ],
   "source": [
    "#check dtypes of data\n",
    "Data.dtypes"
   ]
  },
  {
   "cell_type": "code",
   "execution_count": 34,
   "metadata": {},
   "outputs": [
    {
     "data": {
      "image/png": "[encoded data removed]",
      "text/plain": [
       "<Figure size 432x288 with 1 Axes>"
      ]
     },
     "metadata": {
      "needs_background": "light"
     },
     "output_type": "display_data"
    },
    {
     "data": {
      "image/png": "[encoded data removed]",
      "text/plain": [
       "<Figure size 432x288 with 1 Axes>"
      ]
     },
     "metadata": {
      "needs_background": "light"
     },
     "output_type": "display_data"
    }
   ],
   "source": [
    "#plotting the signals wrt time\n",
    "colors = {'A':'red', 'B':'green', 'C':'blue'}\n",
    "c=Data['Label'].map(colors)\n",
    "plt.scatter(x=Data.index,y=Data['Signal1'],color=c)\n",
    "plt.xlabel(\"Time\")\n",
    "plt.ylabel(\"Signal 1\")\n",
    "plt.title('Signal 1 wrt time')\n",
    "plt.show()\n",
    "#second Plot\n",
    "plt.scatter(x=Data.index,y=Data['Signal2'],color=c)\n",
    "plt.title('Signal2 wrt time')\n",
    "plt.xlabel(\"Time\")\n",
    "plt.ylabel(\"Signal 2\")\n",
    "plt.show()"
   ]
  },
  {
   "cell_type": "code",
   "execution_count": 37,
   "metadata": {},
   "outputs": [
    {
     "name": "stderr",
     "output_type": "stream",
     "text": [
      "<ipython-input-37-b39cc406d851>:2: FutureWarning: Indexing with multiple keys (implicitly converted to a tuple of keys) will be deprecated, use a list instead.\n",
      "  Data.groupby(['Label'])['Signal1','Signal2'].std()\n"
     ]
    },
    {
     "data": {
      "text/html": [
       "<div>\n",
       "<style scoped>\n",
       "    .dataframe tbody tr th:only-of-type {\n",
       "        vertical-align: middle;\n",
       "    }\n",
       "\n",
       "    .dataframe tbody tr th {\n",
       "        vertical-align: top;\n",
       "    }\n",
       "\n",
       "    .dataframe thead th {\n",
       "        text-align: right;\n",
       "    }\n",
       "</style>\n",
       "<table border=\"1\" class=\"dataframe\">\n",
       "  <thead>\n",
       "    <tr style=\"text-align: right;\">\n",
       "      <th></th>\n",
       "      <th>Signal1</th>\n",
       "      <th>Signal2</th>\n",
       "    </tr>\n",
       "    <tr>\n",
       "      <th>Label</th>\n",
       "      <th></th>\n",
       "      <th></th>\n",
       "    </tr>\n",
       "  </thead>\n",
       "  <tbody>\n",
       "    <tr>\n",
       "      <th>A</th>\n",
       "      <td>14506.810996</td>\n",
       "      <td>0.157220</td>\n",
       "    </tr>\n",
       "    <tr>\n",
       "      <th>B</th>\n",
       "      <td>10693.240850</td>\n",
       "      <td>0.238301</td>\n",
       "    </tr>\n",
       "    <tr>\n",
       "      <th>C</th>\n",
       "      <td>8864.887863</td>\n",
       "      <td>0.010161</td>\n",
       "    </tr>\n",
       "  </tbody>\n",
       "</table>\n",
       "</div>"
      ],
      "text/plain": [
       "            Signal1   Signal2\n",
       "Label                        \n",
       "A      14506.810996  0.157220\n",
       "B      10693.240850  0.238301\n",
       "C       8864.887863  0.010161"
      ]
     },
     "execution_count": 37,
     "metadata": {},
     "output_type": "execute_result"
    }
   ],
   "source": [
    "#mean of each category of Label\n",
    "Data.groupby(['Label'])['Signal1','Signal2'].mean()"
   ]
  },
  {
   "cell_type": "code",
   "execution_count": 38,
   "metadata": {},
   "outputs": [
    {
     "name": "stderr",
     "output_type": "stream",
     "text": [
      "<ipython-input-38-cf57dd84c125>:2: FutureWarning: Indexing with multiple keys (implicitly converted to a tuple of keys) will be deprecated, use a list instead.\n",
      "  Data.groupby(['Label'])['Signal1','Signal2'].std()\n"
     ]
    },
    {
     "data": {
      "text/html": [
       "<div>\n",
       "<style scoped>\n",
       "    .dataframe tbody tr th:only-of-type {\n",
       "        vertical-align: middle;\n",
       "    }\n",
       "\n",
       "    .dataframe tbody tr th {\n",
       "        vertical-align: top;\n",
       "    }\n",
       "\n",
       "    .dataframe thead th {\n",
       "        text-align: right;\n",
       "    }\n",
       "</style>\n",
       "<table border=\"1\" class=\"dataframe\">\n",
       "  <thead>\n",
       "    <tr style=\"text-align: right;\">\n",
       "      <th></th>\n",
       "      <th>Signal1</th>\n",
       "      <th>Signal2</th>\n",
       "    </tr>\n",
       "    <tr>\n",
       "      <th>Label</th>\n",
       "      <th></th>\n",
       "      <th></th>\n",
       "    </tr>\n",
       "  </thead>\n",
       "  <tbody>\n",
       "    <tr>\n",
       "      <th>A</th>\n",
       "      <td>14506.810996</td>\n",
       "      <td>0.157220</td>\n",
       "    </tr>\n",
       "    <tr>\n",
       "      <th>B</th>\n",
       "      <td>10693.240850</td>\n",
       "      <td>0.238301</td>\n",
       "    </tr>\n",
       "    <tr>\n",
       "      <th>C</th>\n",
       "      <td>8864.887863</td>\n",
       "      <td>0.010161</td>\n",
       "    </tr>\n",
       "  </tbody>\n",
       "</table>\n",
       "</div>"
      ],
      "text/plain": [
       "            Signal1   Signal2\n",
       "Label                        \n",
       "A      14506.810996  0.157220\n",
       "B      10693.240850  0.238301\n",
       "C       8864.887863  0.010161"
      ]
     },
     "execution_count": 38,
     "metadata": {},
     "output_type": "execute_result"
    }
   ],
   "source": [
    "#standard deviation of each category of Label\n",
    "Data.groupby(['Label'])['Signal1','Signal2'].std()"
   ]
  },
  {
   "cell_type": "markdown",
   "metadata": {},
   "source": [
    "## From here onwards Nomenclature :\n",
    "### Label:Class\n",
    "### Class A Signal 1 : cAs1\n",
    "### Class A Signal 2 : cAs2\n",
    "### Class B Signal 1 : cBs1\n",
    "### Class B Signal 2 : cBs2\n",
    "### Class C Signal 1 : cCs1\n",
    "### Class C Signal 2 : cCs2"
   ]
  },
  {
   "cell_type": "code",
   "execution_count": 125,
   "metadata": {},
   "outputs": [
    {
     "name": "stdout",
     "output_type": "stream",
     "text": [
      "<class 'pandas.core.frame.DataFrame'>\n",
      "RangeIndex: 912000 entries, 0 to 911999\n",
      "Data columns (total 4 columns):\n",
      " #   Column   Non-Null Count   Dtype  \n",
      "---  ------   --------------   -----  \n",
      " 0   Time     912000 non-null  object \n",
      " 1   Signal1  912000 non-null  float64\n",
      " 2   Signal2  912000 non-null  float64\n",
      " 3   Label    912000 non-null  object \n",
      "dtypes: float64(2), object(2)\n",
      "memory usage: 27.8+ MB\n"
     ]
    }
   ],
   "source": [
    "#general overview of data \n",
    "Data.info()"
   ]
  },
  {
   "cell_type": "code",
   "execution_count": 109,
   "metadata": {},
   "outputs": [
    {
     "data": {
      "text/plain": [
       "A    318000\n",
       "B    312000\n",
       "C    282000\n",
       "Name: Label, dtype: int64"
      ]
     },
     "execution_count": 109,
     "metadata": {},
     "output_type": "execute_result"
    }
   ],
   "source": [
    "# Look at the counts of classes\n",
    "Data['Label'].value_counts()"
   ]
  },
  {
   "cell_type": "code",
   "execution_count": 126,
   "metadata": {},
   "outputs": [],
   "source": [
    "#subseting dataset into 3 subsets of categories of label\n",
    "ClassA=Data[Data['Label']=='A']\n",
    "ClassB=Data[Data['Label']=='B']\n",
    "ClassC=Data[Data['Label']=='C']\n"
   ]
  },
  {
   "cell_type": "markdown",
   "metadata": {},
   "source": [
    "## Hurst exponent analysis \n",
    "#### Hurst exponents gives a measure of long-term memory of time series. It relates to the autocorrelations of the time series, and the rate at which these decrease as the lag between pairs of values increases\n",
    "\n",
    "### H = 0.5 — Brownian motion,\n",
    "### 0.5 < H < 1.0 — persistent behavior,\n",
    "### 0 < H < 0.5 — anti-persistent behavior."
   ]
  },
  {
   "cell_type": "markdown",
   "metadata": {},
   "source": [
    "### Class A"
   ]
  },
  {
   "cell_type": "code",
   "execution_count": 26,
   "metadata": {
    "scrolled": true
   },
   "outputs": [
    {
     "data": {
      "image/png": "[encoded data removed]",
      "text/plain": [
       "<Figure size 432x288 with 1 Axes>"
      ]
     },
     "metadata": {
      "needs_background": "light"
     },
     "output_type": "display_data"
    },
    {
     "data": {
      "text/plain": [
       "0.5747595732623282"
      ]
     },
     "execution_count": 26,
     "metadata": {},
     "output_type": "execute_result"
    }
   ],
   "source": [
    "nolds.hurst_rs(ClassA['Signal1'],debug_plot=True)  #cAs1"
   ]
  },
  {
   "cell_type": "markdown",
   "metadata": {},
   "source": [
    "##### Above Hurst Exponent is above to 0.5. and near 0.5 It's fair to consider this cAs1 to be close to brownian motion and follows slight persistent behavior. Meaning given cAs1 is completely  uncorrelated with sight autocorrelation, this trend will continues. Thus hurst exponent is directly related to dimension of line, we can observe that dimension of cAs1 is 1.425 means it is neither too rough or too smooth, in other words its random fluctuation thats balance with highs and lows."
   ]
  },
  {
   "cell_type": "code",
   "execution_count": 30,
   "metadata": {
    "scrolled": false
   },
   "outputs": [
    {
     "data": {
      "image/png": "[encoded data removed]",
      "text/plain": [
       "<Figure size 432x288 with 1 Axes>"
      ]
     },
     "metadata": {
      "needs_background": "light"
     },
     "output_type": "display_data"
    },
    {
     "data": {
      "text/plain": [
       "0.9436455006528913"
      ]
     },
     "execution_count": 30,
     "metadata": {},
     "output_type": "execute_result"
    }
   ],
   "source": [
    "nolds.hurst_rs(ClassA['Signal2'],debug_plot=True)   #cAs2"
   ]
  },
  {
   "cell_type": "markdown",
   "metadata": {},
   "source": [
    "##### Here Hurst Exponent is also below 1. So this cAs2 follow persistent pattern of cAs1 . Meaning time series with long-term positive autocorrelation, meaning both that a high value in the series will probably be followed by another high value and that the values a long time into the future will also tend to be high."
   ]
  },
  {
   "cell_type": "markdown",
   "metadata": {},
   "source": [
    "### Class B"
   ]
  },
  {
   "cell_type": "code",
   "execution_count": 31,
   "metadata": {},
   "outputs": [
    {
     "data": {
      "image/png": "[encoded data removed]",
      "text/plain": [
       "<Figure size 432x288 with 1 Axes>"
      ]
     },
     "metadata": {
      "needs_background": "light"
     },
     "output_type": "display_data"
    },
    {
     "data": {
      "text/plain": [
       "0.6082193903732963"
      ]
     },
     "execution_count": 31,
     "metadata": {},
     "output_type": "execute_result"
    }
   ],
   "source": [
    "nolds.hurst_rs(ClassB['Signal1'],debug_plot=True)    #cBs1"
   ]
  },
  {
   "cell_type": "markdown",
   "metadata": {},
   "source": [
    "#### cBs1 Hurst exponent is above 0.5 and close to 0.5. cBs1 is exactly similar to cAs1 in terms of hurst exponent. Therefore, we can see the slight persistent pattern followed in dimension as well. Which denotes the signal is fluctuating slightly autocorrelated."
   ]
  },
  {
   "cell_type": "code",
   "execution_count": 32,
   "metadata": {
    "scrolled": false
   },
   "outputs": [
    {
     "data": {
      "image/png": "[encoded data removed]",
      "text/plain": [
       "<Figure size 432x288 with 1 Axes>"
      ]
     },
     "metadata": {
      "needs_background": "light"
     },
     "output_type": "display_data"
    },
    {
     "data": {
      "text/plain": [
       "0.9656017582527002"
      ]
     },
     "execution_count": 32,
     "metadata": {},
     "output_type": "execute_result"
    }
   ],
   "source": [
    "nolds.hurst_rs(ClassB['Signal2'],debug_plot=True)     #cBs2"
   ]
  },
  {
   "cell_type": "markdown",
   "metadata": {},
   "source": [
    "#### cBs2 has hurst exponent is 0.96 which is under 1. Which tells that signal is hightly persistent .It is also similar to cAs2."
   ]
  },
  {
   "cell_type": "markdown",
   "metadata": {},
   "source": [
    "### Class C"
   ]
  },
  {
   "cell_type": "code",
   "execution_count": 33,
   "metadata": {
    "scrolled": true
   },
   "outputs": [
    {
     "data": {
      "image/png": "[encoded data removed]",
      "text/plain": [
       "<Figure size 432x288 with 1 Axes>"
      ]
     },
     "metadata": {
      "needs_background": "light"
     },
     "output_type": "display_data"
    },
    {
     "data": {
      "text/plain": [
       "0.8292981622514977"
      ]
     },
     "execution_count": 33,
     "metadata": {},
     "output_type": "execute_result"
    }
   ],
   "source": [
    "nolds.hurst_rs(ClassC['Signal1'],debug_plot=True)   #cCs1"
   ]
  },
  {
   "cell_type": "markdown",
   "metadata": {},
   "source": [
    "#### cCs1 hurst exponent is under 0.1. Meaning the signal's trend will be always autocorrelated and persistent."
   ]
  },
  {
   "cell_type": "code",
   "execution_count": 34,
   "metadata": {},
   "outputs": [
    {
     "data": {
      "image/png": "[encoded data removed]",
      "text/plain": [
       "<Figure size 432x288 with 1 Axes>"
      ]
     },
     "metadata": {
      "needs_background": "light"
     },
     "output_type": "display_data"
    },
    {
     "data": {
      "text/plain": [
       "0.8748319171563598"
      ]
     },
     "execution_count": 34,
     "metadata": {},
     "output_type": "execute_result"
    }
   ],
   "source": [
    "nolds.hurst_rs(ClassC['Signal2'],debug_plot=True)   #cCs2"
   ]
  },
  {
   "cell_type": "markdown",
   "metadata": {},
   "source": [
    "#### cCs2 hurst exponent is similar to cCs1. And follows similar trends like autocorrelation"
   ]
  },
  {
   "cell_type": "markdown",
   "metadata": {},
   "source": [
    "### DFA (detrend fluctuation analysis) \n",
    "#### DFA is a method for determining the statistical self-affinity of a signal. It is useful for analysing time series that appear to be long-memory processes.\n",
    "##### alpha <1/2: anti-correlated\n",
    "##### alpha = 1/2: uncorrelated, white noise\n",
    "##### alpha >1/2: correlated\n",
    "##### alpha = 1: 1/f-noise, pink noise\n",
    "##### alpha >1: non-stationary, unbounded\n",
    "##### alpha = 3/2: Brownian noise"
   ]
  },
  {
   "cell_type": "markdown",
   "metadata": {},
   "source": [
    "### Class A"
   ]
  },
  {
   "cell_type": "code",
   "execution_count": 99,
   "metadata": {},
   "outputs": [
    {
     "data": {
      "image/png": "[encoded data removed]",
      "text/plain": [
       "<Figure size 432x288 with 1 Axes>"
      ]
     },
     "metadata": {
      "needs_background": "light"
     },
     "output_type": "display_data"
    },
    {
     "data": {
      "text/plain": [
       "0.48872211784113606"
      ]
     },
     "execution_count": 99,
     "metadata": {},
     "output_type": "execute_result"
    }
   ],
   "source": [
    "nolds.dfa(data=ClassA['Signal1'],debug_plot=True)   #cAs1"
   ]
  },
  {
   "cell_type": "markdown",
   "metadata": {},
   "source": [
    "#### DFA of cAs1 's alpha is just under 0.5 meaning its uncorrelated and resembles white noise . thus value is under 1 meaning signal was successfully detrended."
   ]
  },
  {
   "cell_type": "code",
   "execution_count": 35,
   "metadata": {},
   "outputs": [
    {
     "data": {
      "image/png": "[encoded data removed]",
      "text/plain": [
       "<Figure size 432x288 with 1 Axes>"
      ]
     },
     "metadata": {
      "needs_background": "light"
     },
     "output_type": "display_data"
    },
    {
     "data": {
      "text/plain": [
       "1.8449455786234312"
      ]
     },
     "execution_count": 35,
     "metadata": {},
     "output_type": "execute_result"
    }
   ],
   "source": [
    "nolds.dfa(data=ClassA['Signal2'],debug_plot=True)     #cAs2"
   ]
  },
  {
   "cell_type": "markdown",
   "metadata": {},
   "source": [
    "#### cAs2 is 1.8 which denotes it was not able to detrend and signal is unbounded or non-stationary"
   ]
  },
  {
   "cell_type": "markdown",
   "metadata": {},
   "source": [
    "### Class B"
   ]
  },
  {
   "cell_type": "code",
   "execution_count": 37,
   "metadata": {},
   "outputs": [
    {
     "data": {
      "image/png": "[encoded data removed]",
      "text/plain": [
       "<Figure size 432x288 with 1 Axes>"
      ]
     },
     "metadata": {
      "needs_background": "light"
     },
     "output_type": "display_data"
    },
    {
     "data": {
      "text/plain": [
       "0.5063292014415779"
      ]
     },
     "execution_count": 37,
     "metadata": {},
     "output_type": "execute_result"
    }
   ],
   "source": [
    "nolds.dfa(data=ClassB['Signal1'],debug_plot=True)    #cBs1"
   ]
  },
  {
   "cell_type": "markdown",
   "metadata": {},
   "source": [
    "#### cBs1 is 0.5 meaning follows uncorrelated pattern and resembles white noise"
   ]
  },
  {
   "cell_type": "code",
   "execution_count": 36,
   "metadata": {},
   "outputs": [
    {
     "data": {
      "image/png": "[encoded data removed]",
      "text/plain": [
       "<Figure size 432x288 with 1 Axes>"
      ]
     },
     "metadata": {
      "needs_background": "light"
     },
     "output_type": "display_data"
    },
    {
     "data": {
      "text/plain": [
       "1.817671427084879"
      ]
     },
     "execution_count": 36,
     "metadata": {},
     "output_type": "execute_result"
    }
   ],
   "source": [
    "nolds.dfa(data=ClassB['Signal2'],debug_plot=True)      #cBs2"
   ]
  },
  {
   "cell_type": "markdown",
   "metadata": {},
   "source": [
    "#### cBs2 is exact similar to cAs2 and wasnt detrended successfully."
   ]
  },
  {
   "cell_type": "markdown",
   "metadata": {},
   "source": [
    "### Class C"
   ]
  },
  {
   "cell_type": "code",
   "execution_count": 39,
   "metadata": {},
   "outputs": [
    {
     "data": {
      "image/png": "[encoded data removed]",
      "text/plain": [
       "<Figure size 432x288 with 1 Axes>"
      ]
     },
     "metadata": {
      "needs_background": "light"
     },
     "output_type": "display_data"
    },
    {
     "data": {
      "text/plain": [
       "0.7009700485193497"
      ]
     },
     "execution_count": 39,
     "metadata": {},
     "output_type": "execute_result"
    }
   ],
   "source": [
    "nolds.dfa(data=ClassC['Signal1'],debug_plot=True)   #cCs1"
   ]
  },
  {
   "cell_type": "markdown",
   "metadata": {},
   "source": [
    "#### cCs1 is greater than 0.5 and thus follow a persistent correlated pattern."
   ]
  },
  {
   "cell_type": "code",
   "execution_count": 38,
   "metadata": {},
   "outputs": [
    {
     "data": {
      "image/png": "[encoded data removed]",
      "text/plain": [
       "<Figure size 432x288 with 1 Axes>"
      ]
     },
     "metadata": {
      "needs_background": "light"
     },
     "output_type": "display_data"
    },
    {
     "data": {
      "text/plain": [
       "1.7160380861830362"
      ]
     },
     "execution_count": 38,
     "metadata": {},
     "output_type": "execute_result"
    }
   ],
   "source": [
    "nolds.dfa(data=ClassC['Signal2'],debug_plot=True)      #cCs2"
   ]
  },
  {
   "cell_type": "markdown",
   "metadata": {},
   "source": [
    "#### cCs2 is  greater than 1 thus wasn't able to detrended well."
   ]
  },
  {
   "cell_type": "markdown",
   "metadata": {},
   "source": [
    "## Lyapunov exponent \n",
    "#### Lyapunov characteristic exponent of a dynamical system is a quantity that characterizes the rate of separation of infinitesimally close trajectories. It is common to refer to the largest one as the Maximal Lyapunov exponent (MLE), because it determines a notion of predictability for a dynamical system"
   ]
  },
  {
   "cell_type": "markdown",
   "metadata": {},
   "source": [
    "### Class A"
   ]
  },
  {
   "cell_type": "code",
   "execution_count": 9,
   "metadata": {},
   "outputs": [
    {
     "name": "stderr",
     "output_type": "stream",
     "text": [
      "C:\\Users\\rushi\\anaconda3\\lib\\site-packages\\nolds\\measures.py:240: RuntimeWarning: signal has very low mean frequency, setting min_tsep = 2500\n",
      "  warnings.warn(msg.format(min_tsep), RuntimeWarning)\n"
     ]
    },
    {
     "data": {
      "text/plain": [
       "0.026782475858121494"
      ]
     },
     "execution_count": 9,
     "metadata": {},
     "output_type": "execute_result"
    }
   ],
   "source": [
    "nolds.lyap_r(ClassA['Signal1'][:10000])   #cAs1"
   ]
  },
  {
   "cell_type": "markdown",
   "metadata": {},
   "source": [
    "##### The signal cAs1 is flow and the trajectory wont quickly converge to a single point"
   ]
  },
  {
   "cell_type": "code",
   "execution_count": 8,
   "metadata": {},
   "outputs": [
    {
     "name": "stderr",
     "output_type": "stream",
     "text": [
      "C:\\Users\\rushi\\anaconda3\\lib\\site-packages\\nolds\\measures.py:240: RuntimeWarning: signal has very low mean frequency, setting min_tsep = 2500\n",
      "  warnings.warn(msg.format(min_tsep), RuntimeWarning)\n",
      "C:\\Users\\rushi\\anaconda3\\lib\\site-packages\\nolds\\measures.py:268: RuntimeWarning: autocorrelation declined too slowly to find suitable lag, setting lag to 552\n",
      "  warnings.warn(msg.format(lag), RuntimeWarning)\n"
     ]
    },
    {
     "data": {
      "text/plain": [
       "8.140650010640158e-05"
      ]
     },
     "execution_count": 8,
     "metadata": {},
     "output_type": "execute_result"
    }
   ],
   "source": [
    "nolds.lyap_r(ClassA['Signal2'][:10000])     #cAs2"
   ]
  },
  {
   "cell_type": "markdown",
   "metadata": {},
   "source": [
    "##### Signal cAs2 trajectory will quickly converge to a single point. Meaning the signal will reach critical stituation very quickly."
   ]
  },
  {
   "cell_type": "markdown",
   "metadata": {},
   "source": [
    "### Class B"
   ]
  },
  {
   "cell_type": "code",
   "execution_count": 10,
   "metadata": {},
   "outputs": [
    {
     "name": "stderr",
     "output_type": "stream",
     "text": [
      "C:\\Users\\rushi\\anaconda3\\lib\\site-packages\\nolds\\measures.py:240: RuntimeWarning: signal has very low mean frequency, setting min_tsep = 2500\n",
      "  warnings.warn(msg.format(min_tsep), RuntimeWarning)\n",
      "C:\\Users\\rushi\\anaconda3\\lib\\site-packages\\nolds\\measures.py:268: RuntimeWarning: autocorrelation declined too slowly to find suitable lag, setting lag to 552\n",
      "  warnings.warn(msg.format(lag), RuntimeWarning)\n"
     ]
    },
    {
     "data": {
      "text/plain": [
       "0.03072954479016766"
      ]
     },
     "execution_count": 10,
     "metadata": {},
     "output_type": "execute_result"
    }
   ],
   "source": [
    "nolds.lyap_r(ClassB['Signal1'][:10000])    #cBs1"
   ]
  },
  {
   "cell_type": "markdown",
   "metadata": {},
   "source": [
    "##### The signal cBs1 is most likely a flow and the trajectory wont quickly converge to a single point"
   ]
  },
  {
   "cell_type": "code",
   "execution_count": 11,
   "metadata": {},
   "outputs": [
    {
     "name": "stderr",
     "output_type": "stream",
     "text": [
      "C:\\Users\\rushi\\anaconda3\\lib\\site-packages\\nolds\\measures.py:240: RuntimeWarning: signal has very low mean frequency, setting min_tsep = 2500\n",
      "  warnings.warn(msg.format(min_tsep), RuntimeWarning)\n",
      "C:\\Users\\rushi\\anaconda3\\lib\\site-packages\\nolds\\measures.py:268: RuntimeWarning: autocorrelation declined too slowly to find suitable lag, setting lag to 552\n",
      "  warnings.warn(msg.format(lag), RuntimeWarning)\n"
     ]
    },
    {
     "data": {
      "text/plain": [
       "-3.374199290855149e-05"
      ]
     },
     "execution_count": 11,
     "metadata": {},
     "output_type": "execute_result"
    }
   ],
   "source": [
    "nolds.lyap_r(ClassB['Signal2'][:10000])       #cBs2"
   ]
  },
  {
   "cell_type": "markdown",
   "metadata": {},
   "source": [
    "##### Signal cBs2 is dissipative, the sum of Lyapunov exponents is negative. Meaning the signal is oscillating far from equilibrium."
   ]
  },
  {
   "cell_type": "markdown",
   "metadata": {},
   "source": [
    "### Class C"
   ]
  },
  {
   "cell_type": "code",
   "execution_count": 12,
   "metadata": {},
   "outputs": [
    {
     "name": "stderr",
     "output_type": "stream",
     "text": [
      "C:\\Users\\rushi\\anaconda3\\lib\\site-packages\\nolds\\measures.py:240: RuntimeWarning: signal has very low mean frequency, setting min_tsep = 2500\n",
      "  warnings.warn(msg.format(min_tsep), RuntimeWarning)\n",
      "C:\\Users\\rushi\\anaconda3\\lib\\site-packages\\nolds\\measures.py:268: RuntimeWarning: autocorrelation declined too slowly to find suitable lag, setting lag to 552\n",
      "  warnings.warn(msg.format(lag), RuntimeWarning)\n"
     ]
    },
    {
     "data": {
      "text/plain": [
       "0.06019793357048849"
      ]
     },
     "execution_count": 12,
     "metadata": {},
     "output_type": "execute_result"
    }
   ],
   "source": [
    "nolds.lyap_r(ClassC['Signal1'][:10000])    #cCs1"
   ]
  },
  {
   "cell_type": "markdown",
   "metadata": {},
   "source": [
    "##### The signal cCs1 is likely a  flow and the trajectory wont quickly converge to a single point"
   ]
  },
  {
   "cell_type": "code",
   "execution_count": 13,
   "metadata": {},
   "outputs": [
    {
     "name": "stderr",
     "output_type": "stream",
     "text": [
      "C:\\Users\\rushi\\anaconda3\\lib\\site-packages\\nolds\\measures.py:240: RuntimeWarning: signal has very low mean frequency, setting min_tsep = 2500\n",
      "  warnings.warn(msg.format(min_tsep), RuntimeWarning)\n",
      "C:\\Users\\rushi\\anaconda3\\lib\\site-packages\\nolds\\measures.py:268: RuntimeWarning: autocorrelation declined too slowly to find suitable lag, setting lag to 552\n",
      "  warnings.warn(msg.format(lag), RuntimeWarning)\n"
     ]
    },
    {
     "data": {
      "text/plain": [
       "0.0002488513569255617"
      ]
     },
     "execution_count": 13,
     "metadata": {},
     "output_type": "execute_result"
    }
   ],
   "source": [
    "nolds.lyap_r(ClassC['Signal2'][:10000])     #cCs2"
   ]
  },
  {
   "cell_type": "markdown",
   "metadata": {},
   "source": [
    "##### The signal cCs2 is a flow and the trajectory does not converge to a single point"
   ]
  },
  {
   "cell_type": "markdown",
   "metadata": {},
   "source": [
    "# Sample entropy\n",
    "#### Sample entropy (SampEn) is a modification of approximate entropy (ApEn), used for assessing the complexity of physiological time-series signals, diagnosing diseased states. SampEn has two advantages over ApEn: data length independence and a relatively trouble-free implementation"
   ]
  },
  {
   "cell_type": "markdown",
   "metadata": {},
   "source": [
    "### Class A"
   ]
  },
  {
   "cell_type": "code",
   "execution_count": 95,
   "metadata": {},
   "outputs": [
    {
     "data": {
      "text/plain": [
       "0.16448871352996633"
      ]
     },
     "execution_count": 95,
     "metadata": {},
     "output_type": "execute_result"
    }
   ],
   "source": [
    "nolds.sampen(ClassA['Signal1'][:50000])   #cAs1"
   ]
  },
  {
   "cell_type": "code",
   "execution_count": 53,
   "metadata": {
    "scrolled": true
   },
   "outputs": [
    {
     "data": {
      "text/plain": [
       "0.006400269980705339"
      ]
     },
     "execution_count": 53,
     "metadata": {},
     "output_type": "execute_result"
    }
   ],
   "source": [
    "nolds.sampen(ClassA['Signal2'][:5000])     #cAs2"
   ]
  },
  {
   "cell_type": "markdown",
   "metadata": {},
   "source": [
    "### Class B"
   ]
  },
  {
   "cell_type": "code",
   "execution_count": 54,
   "metadata": {},
   "outputs": [
    {
     "data": {
      "text/plain": [
       "0.15972189184502253"
      ]
     },
     "execution_count": 54,
     "metadata": {},
     "output_type": "execute_result"
    }
   ],
   "source": [
    "nolds.sampen(ClassB['Signal1'][:5000])     #cBs1"
   ]
  },
  {
   "cell_type": "code",
   "execution_count": 55,
   "metadata": {
    "scrolled": true
   },
   "outputs": [
    {
     "data": {
      "text/plain": [
       "0.005320922977929178"
      ]
     },
     "execution_count": 55,
     "metadata": {},
     "output_type": "execute_result"
    }
   ],
   "source": [
    "nolds.sampen(ClassB['Signal2'][:5000])        #cBs2"
   ]
  },
  {
   "cell_type": "markdown",
   "metadata": {},
   "source": [
    "### Class C"
   ]
  },
  {
   "cell_type": "code",
   "execution_count": 56,
   "metadata": {},
   "outputs": [
    {
     "data": {
      "text/plain": [
       "0.21795210552095978"
      ]
     },
     "execution_count": 56,
     "metadata": {},
     "output_type": "execute_result"
    }
   ],
   "source": [
    "nolds.sampen(ClassC['Signal1'][:5000])    #cCs1"
   ]
  },
  {
   "cell_type": "code",
   "execution_count": 57,
   "metadata": {
    "scrolled": true
   },
   "outputs": [
    {
     "data": {
      "text/plain": [
       "0.0062048831231933665"
      ]
     },
     "execution_count": 57,
     "metadata": {},
     "output_type": "execute_result"
    }
   ],
   "source": [
    "nolds.sampen(ClassC['Signal2'][:5000])     #cCs2"
   ]
  },
  {
   "cell_type": "markdown",
   "metadata": {},
   "source": [
    "From above complexity measures we can see that larger the data better the results of complexity . \n",
    "With small sample size the complexity tends to be similar with each other. Passing large data to compute also requires high computational power and time. Due to lack of computational resources I have passed only top 5000 values to generate complexity of classes."
   ]
  },
  {
   "cell_type": "markdown",
   "metadata": {},
   "source": [
    "### Complexity ranking on limited data points \n",
    "#### Class C -> Class A -> Class B\n",
    "##### assumming the complexity generated represents entire class complexity, we can determine class c is most complex followed with class A and class B"
   ]
  },
  {
   "cell_type": "markdown",
   "metadata": {},
   "source": [
    "  # Katz fractal dimension"
   ]
  },
  {
   "cell_type": "markdown",
   "metadata": {},
   "source": [
    "### Class A"
   ]
  },
  {
   "cell_type": "code",
   "execution_count": 66,
   "metadata": {},
   "outputs": [
    {
     "data": {
      "text/plain": [
       "3.4139001750107423"
      ]
     },
     "execution_count": 66,
     "metadata": {},
     "output_type": "execute_result"
    }
   ],
   "source": [
    "katz_fd(ClassA['Signal1'])        #cAs1      # Katz fractal dimension"
   ]
  },
  {
   "cell_type": "code",
   "execution_count": 67,
   "metadata": {},
   "outputs": [
    {
     "data": {
      "text/plain": [
       "1.1241749063153963"
      ]
     },
     "execution_count": 67,
     "metadata": {},
     "output_type": "execute_result"
    }
   ],
   "source": [
    "katz_fd(ClassA['Signal2'])        #cAs2      # Katz fractal dimension"
   ]
  },
  {
   "cell_type": "markdown",
   "metadata": {},
   "source": [
    "### Class B"
   ]
  },
  {
   "cell_type": "code",
   "execution_count": 68,
   "metadata": {},
   "outputs": [
    {
     "data": {
      "text/plain": [
       "3.087957152732185"
      ]
     },
     "execution_count": 68,
     "metadata": {},
     "output_type": "execute_result"
    }
   ],
   "source": [
    "katz_fd(ClassB['Signal1'])       #cBs1        # Katz fractal dimension"
   ]
  },
  {
   "cell_type": "code",
   "execution_count": 69,
   "metadata": {},
   "outputs": [
    {
     "data": {
      "text/plain": [
       "1.3198216840536543"
      ]
     },
     "execution_count": 69,
     "metadata": {},
     "output_type": "execute_result"
    }
   ],
   "source": [
    "katz_fd(ClassB['Signal2'])      #cBs2        # Katz fractal dimension"
   ]
  },
  {
   "cell_type": "markdown",
   "metadata": {},
   "source": [
    "### Class C"
   ]
  },
  {
   "cell_type": "code",
   "execution_count": 70,
   "metadata": {},
   "outputs": [
    {
     "data": {
      "text/plain": [
       "2.8661331404575896"
      ]
     },
     "execution_count": 70,
     "metadata": {},
     "output_type": "execute_result"
    }
   ],
   "source": [
    "katz_fd(ClassC['Signal1'])      #cCs1        # Katz fractal dimension"
   ]
  },
  {
   "cell_type": "code",
   "execution_count": 71,
   "metadata": {},
   "outputs": [
    {
     "data": {
      "text/plain": [
       "1.2555800741222392"
      ]
     },
     "execution_count": 71,
     "metadata": {},
     "output_type": "execute_result"
    }
   ],
   "source": [
    "katz_fd(ClassC['Signal2'])       #cCs2         # Katz fractal dimension"
   ]
  },
  {
   "cell_type": "markdown",
   "metadata": {},
   "source": [
    "# Higuchi fractal dimension"
   ]
  },
  {
   "cell_type": "markdown",
   "metadata": {},
   "source": [
    "### Class A"
   ]
  },
  {
   "cell_type": "code",
   "execution_count": 92,
   "metadata": {},
   "outputs": [
    {
     "data": {
      "text/plain": [
       "1.9238079535502934"
      ]
     },
     "execution_count": 92,
     "metadata": {},
     "output_type": "execute_result"
    }
   ],
   "source": [
    "higuchi_fd(ClassA['Signal1'], kmax=1000) #cAs1"
   ]
  },
  {
   "cell_type": "code",
   "execution_count": 84,
   "metadata": {},
   "outputs": [
    {
     "data": {
      "text/plain": [
       "1.148911242388408"
      ]
     },
     "execution_count": 84,
     "metadata": {},
     "output_type": "execute_result"
    }
   ],
   "source": [
    "higuchi_fd(ClassA['Signal2'], kmax=1000)   #cAs2"
   ]
  },
  {
   "cell_type": "markdown",
   "metadata": {},
   "source": [
    "### Class B"
   ]
  },
  {
   "cell_type": "code",
   "execution_count": 85,
   "metadata": {},
   "outputs": [
    {
     "data": {
      "text/plain": [
       "1.9373241296017492"
      ]
     },
     "execution_count": 85,
     "metadata": {},
     "output_type": "execute_result"
    }
   ],
   "source": [
    "higuchi_fd(ClassB['Signal1'], kmax=1000)    #cBs1"
   ]
  },
  {
   "cell_type": "code",
   "execution_count": 86,
   "metadata": {},
   "outputs": [
    {
     "data": {
      "text/plain": [
       "1.108193779300374"
      ]
     },
     "execution_count": 86,
     "metadata": {},
     "output_type": "execute_result"
    }
   ],
   "source": [
    "higuchi_fd(ClassB['Signal2'], kmax=1000)    #cBs2"
   ]
  },
  {
   "cell_type": "markdown",
   "metadata": {},
   "source": [
    "### Class C"
   ]
  },
  {
   "cell_type": "code",
   "execution_count": 93,
   "metadata": {},
   "outputs": [
    {
     "data": {
      "text/plain": [
       "1.9208989347510277"
      ]
     },
     "execution_count": 93,
     "metadata": {},
     "output_type": "execute_result"
    }
   ],
   "source": [
    "higuchi_fd(ClassC['Signal1'], kmax=1000)    #cCs1 "
   ]
  },
  {
   "cell_type": "code",
   "execution_count": 88,
   "metadata": {
    "scrolled": true
   },
   "outputs": [
    {
     "data": {
      "text/plain": [
       "1.3682272198525944"
      ]
     },
     "execution_count": 88,
     "metadata": {},
     "output_type": "execute_result"
    }
   ],
   "source": [
    "higuchi_fd(ClassC['Signal2'], kmax=1000)     #cCs2"
   ]
  },
  {
   "cell_type": "markdown",
   "metadata": {},
   "source": [
    "##### Fractal Dimensions computed with various method will more or less inaccurate if the data set isnt described. As not all fractal dimensions are wrong or correct its only some of them represent dimension properly if suited data is provided."
   ]
  },
  {
   "cell_type": "code",
   "execution_count": 102,
   "metadata": {},
   "outputs": [],
   "source": [
    "columns=['Fractal Method','Class/Label','Signal','Dimension']\n",
    "fractal_summary = pd.DataFrame(columns=columns)"
   ]
  },
  {
   "cell_type": "code",
   "execution_count": 106,
   "metadata": {},
   "outputs": [],
   "source": [
    "#hurst_method\n",
    "fractal_summary = fractal_summary.append(dict(zip(fractal_summary.columns,['Hurst Exponent','A','1',0.57])),ignore_index=True)\n",
    "fractal_summary = fractal_summary.append(dict(zip(fractal_summary.columns,['Hurst Exponent','A','2',0.94])),ignore_index=True)\n",
    "fractal_summary = fractal_summary.append(dict(zip(fractal_summary.columns,['Hurst Exponent','B','1',0.60])),ignore_index=True)\n",
    "fractal_summary = fractal_summary.append(dict(zip(fractal_summary.columns,['Hurst Exponent','B','2',0.96])),ignore_index=True)\n",
    "fractal_summary = fractal_summary.append(dict(zip(fractal_summary.columns,['Hurst Exponent','C','1',0.82])),ignore_index=True)\n",
    "fractal_summary = fractal_summary.append(dict(zip(fractal_summary.columns,['Hurst Exponent','C','2',0.87])),ignore_index=True)"
   ]
  },
  {
   "cell_type": "code",
   "execution_count": 108,
   "metadata": {},
   "outputs": [],
   "source": [
    "# as we know D = 2 - H , so computing dimension for Hurst exponent method\n",
    "fractal_summary['Dimension'] = 2-fractal_summary['Dimension']\n"
   ]
  },
  {
   "cell_type": "code",
   "execution_count": 113,
   "metadata": {},
   "outputs": [],
   "source": [
    "#Katz_method\n",
    "fractal_summary = fractal_summary.append(dict(zip(fractal_summary.columns,['Katz Fractal','A','1',3.41])),ignore_index=True)\n",
    "fractal_summary = fractal_summary.append(dict(zip(fractal_summary.columns,['Katz Fractal','A','2',1.12])),ignore_index=True)\n",
    "fractal_summary = fractal_summary.append(dict(zip(fractal_summary.columns,['Katz Fractal','B','1',3.08])),ignore_index=True)\n",
    "fractal_summary = fractal_summary.append(dict(zip(fractal_summary.columns,['Katz Fractal','B','2',1.31])),ignore_index=True)\n",
    "fractal_summary = fractal_summary.append(dict(zip(fractal_summary.columns,['Katz Fractal','C','1',2.86])),ignore_index=True)\n",
    "fractal_summary = fractal_summary.append(dict(zip(fractal_summary.columns,['Katz Fractal','C','2',1.25])),ignore_index=True)"
   ]
  },
  {
   "cell_type": "code",
   "execution_count": 115,
   "metadata": {},
   "outputs": [],
   "source": [
    "#Higuchi fractal method\n",
    "fractal_summary = fractal_summary.append(dict(zip(fractal_summary.columns,['Higuchi  Fractal','A','1',1.92])),ignore_index=True)\n",
    "fractal_summary = fractal_summary.append(dict(zip(fractal_summary.columns,['Higuchi  Fractal','A','2',1.14])),ignore_index=True)\n",
    "fractal_summary = fractal_summary.append(dict(zip(fractal_summary.columns,['Higuchi  Fractal','B','1',1.93])),ignore_index=True)\n",
    "fractal_summary = fractal_summary.append(dict(zip(fractal_summary.columns,['Higuchi  Fractal','B','2',1.10])),ignore_index=True)\n",
    "fractal_summary = fractal_summary.append(dict(zip(fractal_summary.columns,['Higuchi  Fractal','C','1',1.92])),ignore_index=True)\n",
    "fractal_summary = fractal_summary.append(dict(zip(fractal_summary.columns,['Higuchi  Fractal','C','2',1.36])),ignore_index=True)"
   ]
  },
  {
   "cell_type": "code",
   "execution_count": 116,
   "metadata": {},
   "outputs": [
    {
     "data": {
      "text/html": [
       "<div>\n",
       "<style scoped>\n",
       "    .dataframe tbody tr th:only-of-type {\n",
       "        vertical-align: middle;\n",
       "    }\n",
       "\n",
       "    .dataframe tbody tr th {\n",
       "        vertical-align: top;\n",
       "    }\n",
       "\n",
       "    .dataframe thead th {\n",
       "        text-align: right;\n",
       "    }\n",
       "</style>\n",
       "<table border=\"1\" class=\"dataframe\">\n",
       "  <thead>\n",
       "    <tr style=\"text-align: right;\">\n",
       "      <th></th>\n",
       "      <th>Fractal Method</th>\n",
       "      <th>Class/Label</th>\n",
       "      <th>Signal</th>\n",
       "      <th>Dimension</th>\n",
       "    </tr>\n",
       "  </thead>\n",
       "  <tbody>\n",
       "    <tr>\n",
       "      <th>0</th>\n",
       "      <td>Hurst Exponent</td>\n",
       "      <td>A</td>\n",
       "      <td>1</td>\n",
       "      <td>1.43</td>\n",
       "    </tr>\n",
       "    <tr>\n",
       "      <th>1</th>\n",
       "      <td>Hurst Exponent</td>\n",
       "      <td>A</td>\n",
       "      <td>2</td>\n",
       "      <td>1.06</td>\n",
       "    </tr>\n",
       "    <tr>\n",
       "      <th>2</th>\n",
       "      <td>Hurst Exponent</td>\n",
       "      <td>B</td>\n",
       "      <td>1</td>\n",
       "      <td>1.40</td>\n",
       "    </tr>\n",
       "    <tr>\n",
       "      <th>3</th>\n",
       "      <td>Hurst Exponent</td>\n",
       "      <td>B</td>\n",
       "      <td>2</td>\n",
       "      <td>1.04</td>\n",
       "    </tr>\n",
       "    <tr>\n",
       "      <th>4</th>\n",
       "      <td>Hurst Exponent</td>\n",
       "      <td>C</td>\n",
       "      <td>1</td>\n",
       "      <td>1.18</td>\n",
       "    </tr>\n",
       "    <tr>\n",
       "      <th>5</th>\n",
       "      <td>Hurst Exponent</td>\n",
       "      <td>C</td>\n",
       "      <td>2</td>\n",
       "      <td>1.13</td>\n",
       "    </tr>\n",
       "    <tr>\n",
       "      <th>6</th>\n",
       "      <td>Katz Fractal</td>\n",
       "      <td>A</td>\n",
       "      <td>1</td>\n",
       "      <td>3.41</td>\n",
       "    </tr>\n",
       "    <tr>\n",
       "      <th>7</th>\n",
       "      <td>Katz Fractal</td>\n",
       "      <td>A</td>\n",
       "      <td>2</td>\n",
       "      <td>1.12</td>\n",
       "    </tr>\n",
       "    <tr>\n",
       "      <th>8</th>\n",
       "      <td>Katz Fractal</td>\n",
       "      <td>B</td>\n",
       "      <td>1</td>\n",
       "      <td>3.08</td>\n",
       "    </tr>\n",
       "    <tr>\n",
       "      <th>9</th>\n",
       "      <td>Katz Fractal</td>\n",
       "      <td>B</td>\n",
       "      <td>2</td>\n",
       "      <td>1.31</td>\n",
       "    </tr>\n",
       "    <tr>\n",
       "      <th>10</th>\n",
       "      <td>Katz Fractal</td>\n",
       "      <td>C</td>\n",
       "      <td>1</td>\n",
       "      <td>2.86</td>\n",
       "    </tr>\n",
       "    <tr>\n",
       "      <th>11</th>\n",
       "      <td>Katz Fractal</td>\n",
       "      <td>C</td>\n",
       "      <td>2</td>\n",
       "      <td>1.25</td>\n",
       "    </tr>\n",
       "    <tr>\n",
       "      <th>12</th>\n",
       "      <td>Higuchi  Fractal</td>\n",
       "      <td>A</td>\n",
       "      <td>1</td>\n",
       "      <td>1.92</td>\n",
       "    </tr>\n",
       "    <tr>\n",
       "      <th>13</th>\n",
       "      <td>Higuchi  Fractal</td>\n",
       "      <td>A</td>\n",
       "      <td>2</td>\n",
       "      <td>1.14</td>\n",
       "    </tr>\n",
       "    <tr>\n",
       "      <th>14</th>\n",
       "      <td>Higuchi  Fractal</td>\n",
       "      <td>B</td>\n",
       "      <td>1</td>\n",
       "      <td>1.93</td>\n",
       "    </tr>\n",
       "    <tr>\n",
       "      <th>15</th>\n",
       "      <td>Higuchi  Fractal</td>\n",
       "      <td>B</td>\n",
       "      <td>2</td>\n",
       "      <td>1.10</td>\n",
       "    </tr>\n",
       "    <tr>\n",
       "      <th>16</th>\n",
       "      <td>Higuchi  Fractal</td>\n",
       "      <td>C</td>\n",
       "      <td>1</td>\n",
       "      <td>1.92</td>\n",
       "    </tr>\n",
       "    <tr>\n",
       "      <th>17</th>\n",
       "      <td>Higuchi  Fractal</td>\n",
       "      <td>C</td>\n",
       "      <td>2</td>\n",
       "      <td>1.36</td>\n",
       "    </tr>\n",
       "  </tbody>\n",
       "</table>\n",
       "</div>"
      ],
      "text/plain": [
       "      Fractal Method Class/Label Signal  Dimension\n",
       "0     Hurst Exponent           A      1       1.43\n",
       "1     Hurst Exponent           A      2       1.06\n",
       "2     Hurst Exponent           B      1       1.40\n",
       "3     Hurst Exponent           B      2       1.04\n",
       "4     Hurst Exponent           C      1       1.18\n",
       "5     Hurst Exponent           C      2       1.13\n",
       "6       Katz Fractal           A      1       3.41\n",
       "7       Katz Fractal           A      2       1.12\n",
       "8       Katz Fractal           B      1       3.08\n",
       "9       Katz Fractal           B      2       1.31\n",
       "10      Katz Fractal           C      1       2.86\n",
       "11      Katz Fractal           C      2       1.25\n",
       "12  Higuchi  Fractal           A      1       1.92\n",
       "13  Higuchi  Fractal           A      2       1.14\n",
       "14  Higuchi  Fractal           B      1       1.93\n",
       "15  Higuchi  Fractal           B      2       1.10\n",
       "16  Higuchi  Fractal           C      1       1.92\n",
       "17  Higuchi  Fractal           C      2       1.36"
      ]
     },
     "execution_count": 116,
     "metadata": {},
     "output_type": "execute_result"
    }
   ],
   "source": [
    "fractal_summary"
   ]
  },
  {
   "cell_type": "code",
   "execution_count": 119,
   "metadata": {},
   "outputs": [
    {
     "data": {
      "text/html": [
       "<div>\n",
       "<style scoped>\n",
       "    .dataframe tbody tr th:only-of-type {\n",
       "        vertical-align: middle;\n",
       "    }\n",
       "\n",
       "    .dataframe tbody tr th {\n",
       "        vertical-align: top;\n",
       "    }\n",
       "\n",
       "    .dataframe thead th {\n",
       "        text-align: right;\n",
       "    }\n",
       "</style>\n",
       "<table border=\"1\" class=\"dataframe\">\n",
       "  <thead>\n",
       "    <tr style=\"text-align: right;\">\n",
       "      <th></th>\n",
       "      <th>Dimension</th>\n",
       "    </tr>\n",
       "    <tr>\n",
       "      <th>Class/Label</th>\n",
       "      <th></th>\n",
       "    </tr>\n",
       "  </thead>\n",
       "  <tbody>\n",
       "    <tr>\n",
       "      <th>A</th>\n",
       "      <td>10.08</td>\n",
       "    </tr>\n",
       "    <tr>\n",
       "      <th>B</th>\n",
       "      <td>9.86</td>\n",
       "    </tr>\n",
       "    <tr>\n",
       "      <th>C</th>\n",
       "      <td>9.70</td>\n",
       "    </tr>\n",
       "  </tbody>\n",
       "</table>\n",
       "</div>"
      ],
      "text/plain": [
       "             Dimension\n",
       "Class/Label           \n",
       "A                10.08\n",
       "B                 9.86\n",
       "C                 9.70"
      ]
     },
     "execution_count": 119,
     "metadata": {},
     "output_type": "execute_result"
    }
   ],
   "source": [
    "fractal_summary.groupby('Class/Label').sum()"
   ]
  },
  {
   "cell_type": "markdown",
   "metadata": {},
   "source": [
    "### Fractal Dimenison Ranking Based on label\n",
    "#### A - > B-> C"
   ]
  },
  {
   "cell_type": "code",
   "execution_count": 121,
   "metadata": {},
   "outputs": [
    {
     "data": {
      "text/html": [
       "<div>\n",
       "<style scoped>\n",
       "    .dataframe tbody tr th:only-of-type {\n",
       "        vertical-align: middle;\n",
       "    }\n",
       "\n",
       "    .dataframe tbody tr th {\n",
       "        vertical-align: top;\n",
       "    }\n",
       "\n",
       "    .dataframe thead th {\n",
       "        text-align: right;\n",
       "    }\n",
       "</style>\n",
       "<table border=\"1\" class=\"dataframe\">\n",
       "  <thead>\n",
       "    <tr style=\"text-align: right;\">\n",
       "      <th></th>\n",
       "      <th>Dimension</th>\n",
       "    </tr>\n",
       "    <tr>\n",
       "      <th>Signal</th>\n",
       "      <th></th>\n",
       "    </tr>\n",
       "  </thead>\n",
       "  <tbody>\n",
       "    <tr>\n",
       "      <th>1</th>\n",
       "      <td>19.13</td>\n",
       "    </tr>\n",
       "    <tr>\n",
       "      <th>2</th>\n",
       "      <td>10.51</td>\n",
       "    </tr>\n",
       "  </tbody>\n",
       "</table>\n",
       "</div>"
      ],
      "text/plain": [
       "        Dimension\n",
       "Signal           \n",
       "1           19.13\n",
       "2           10.51"
      ]
     },
     "execution_count": 121,
     "metadata": {},
     "output_type": "execute_result"
    }
   ],
   "source": [
    "fractal_summary.groupby('Signal').sum()"
   ]
  },
  {
   "cell_type": "markdown",
   "metadata": {},
   "source": [
    "### Fractal Dimenison Ranking Based on signal\n",
    "#### 1->2"
   ]
  },
  {
   "cell_type": "markdown",
   "metadata": {},
   "source": [
    "### Reference :\n",
    "https://en.wikipedia.org/wiki/Fractal_dimension#Estimating_from_real-world_data\n",
    "\n",
    "https://www.researchgate.net/publication/303690278_Application_of_Higuchi's_fractal_dimension_from_basic_to_clinical_neurophysiology_A_review\n",
    "\n",
    "https://www.intechopen.com/books/fractal-analysis-selected-examples/fractal-analysis-for-time-series-datasets-a-case-study-of-groundwater-quality\n",
    "\n",
    "http://systems-sciences.uni-graz.at/etextbook/sw2/lyapunov.html\n",
    "\n",
    "https://www.kaggle.com/prkhrr/fractal-analysis-streching-my-skillls\n",
    "\n",
    "https://www.pnas.org/content/99/suppl_1/2466\n",
    "\n",
    "https://www.hindawi.com/journals/cmmm/2012/461426/\n",
    "\n",
    "https://www.hindawi.com/journals/ddns/2011/724697/"
   ]
  },
  {
   "cell_type": "code",
   "execution_count": null,
   "metadata": {},
   "outputs": [],
   "source": []
  }
 ],
 "metadata": {
  "kernelspec": {
   "display_name": "Python 3",
   "language": "python",
   "name": "python3"
  },
  "language_info": {
   "codemirror_mode": {
    "name": "ipython",
    "version": 3
   },
   "file_extension": ".py",
   "mimetype": "text/x-python",
   "name": "python",
   "nbconvert_exporter": "python",
   "pygments_lexer": "ipython3",
   "version": "3.8.3"
  }
 },
 "nbformat": 4,
 "nbformat_minor": 4
}
